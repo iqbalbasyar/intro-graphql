{
 "cells": [
  {
   "cell_type": "markdown",
   "metadata": {},
   "source": [
    "# What is GraphQL"
   ]
  },
  {
   "cell_type": "markdown",
   "metadata": {},
   "source": [
    "GraphQL is **Data Query Language** developed by facebook on 2012 before it's publicly released on 2015. On 2018, the GraphQL project was moved from Facebook and then developed in GraphQL Foundation under Linux Foundation. Now, GraphQL become a new standard of API, replacing the REST method that has been on the throne for years. You can say goodbye, REST. "
   ]
  },
  {
   "cell_type": "markdown",
   "metadata": {},
   "source": [
    "![](res/graphql_logo.png)"
   ]
  },
  {
   "cell_type": "markdown",
   "metadata": {},
   "source": [
    "# GraphQL vs REST"
   ]
  },
  {
   "cell_type": "markdown",
   "metadata": {},
   "source": [
    "You might question, how graphql conquer REST ? all you need to know first is that REST is good before the age of mobile apps. So, what's the problem with REST ? \n",
    "\n",
    "## Over/Underfetching\n",
    "The growth of data resulting in the increasing of the need for data use. This affect API's structure. Some companies would just remodel their REST API, and ended up in tons of [API endpoints](https://searchapparchitecture.techtarget.com/definition/API-endpoint). In other word, the main problem of REST is the API will somehow ended up with excessive amount of endpoint wich resulting in underfetching. Underfetching means each endpoints doesn't give necessary result (too litle information) so we have to call into several endpoints. On the other side, a little number of endpoints doesn't always mean better. Somehow, with little endpoints, we will ended up with too many information given from the endpoint. This will cause Overfetching.\n",
    "\n",
    "See this illustration\n",
    "![](res/fetch_rest.png)\n",
    "\n",
    "GraphQL solve this problem by making a schema. A schema is like a contract between client and server, denoting what data the client can get. The client can get anything within the schema using a **query**. By doing so, the client will **get what they asked** See the illustratin below\n",
    "\n",
    "![](res/fetch_graphql.png)\n",
    "\n",
    "## Insightful Analytic\n",
    "Since GraphQL accepts query as its main input, it can help the team to analyze what data is asked by users, while using simple REST could gives bias (in overfetching case).\n",
    "\n"
   ]
  },
  {
   "cell_type": "markdown",
   "metadata": {},
   "source": [
    "source: howtographql.com\n"
   ]
  },
  {
   "cell_type": "markdown",
   "metadata": {},
   "source": [
    "# How GraphQL works\n",
    "\n",
    "Let's say, you requested a burger on a server. \n",
    "\n",
    "\n",
    "**REST**\n",
    "\n",
    "On a casual REST, you will send HTTP request to let's say `api.get-burger/`\n",
    "and get a response like below \n",
    "```JSON\n",
    "\"burger\": {\n",
    "    \"top\" : {\n",
    "        bun : 1\n",
    "    }\n",
    "    \"fill\" : {\n",
    "        \"ham\" : 1,\n",
    "        \"cheese\" : 1,\n",
    "        \"pickles\" : 4,\n",
    "        \"tomatoes\" : 2,\n",
    "        \"lettuces\" : 2\n",
    "    }\n",
    "    \"base\" :{\n",
    "        bun : 1\n",
    "    }\n",
    "}\n",
    "```\n",
    "\n",
    "**GraphQL**\n",
    "\n",
    "If you're using GraphQL, you can request using a query. Let's say, you wanted the burger with only base bun with cheese and ham on it. You send the request like this : \n",
    "```JSON\n",
    "query{\n",
    "    sandwich{\n",
    "        fill{\n",
    "            cheese\n",
    "            ham \n",
    "        }\n",
    "        base{\n",
    "            bun\n",
    "        }\n",
    "    }\n",
    "}\n",
    "```\n",
    "You will get the result as below\n",
    "```JSON\n",
    "\"sandwich\": {\n",
    "    \"fill\" : {\n",
    "        \"cheese\" : 1,\n",
    "        \"ham\" : 1\n",
    "    }\n",
    "    \"base\" :{\n",
    "        bun : 1\n",
    "    }\n",
    "}\n",
    "```\n",
    "See the different ? you can customize your burger order with GraphQL"
   ]
  },
  {
   "cell_type": "markdown",
   "metadata": {},
   "source": [
    "Generally, query you send to GraphQL server are divided into two : \n",
    "## Query\n",
    "Query works like GET in REST, to get something we asked. The only different is, we strong-typed what we requesting for in a query. By default, our query is categorized as Query, means to get the data. \n",
    "\n",
    "## Mutate\n",
    "Creating, Updating, and Deleting instances can be done in `mutate` type of queries. \n",
    "\n",
    "To see full explanation of GraphQL queries, you may go to [how-to-graphql's](https://graphql.org/learn/queries/) website"
   ]
  },
  {
   "cell_type": "markdown",
   "metadata": {},
   "source": [
    "# Making GraphQL API with Python"
   ]
  },
  {
   "cell_type": "markdown",
   "metadata": {},
   "source": [
    "At first GraphQL was developed under **React** language. But don't worry, Python will always find its way. We have `graphene`, a python package to make GraphQL API easily. In order to build this app, we need: \n",
    "- **Flask** for app's framework\n",
    "- **SQLAlchemy** for database modelling\n",
    "- Chinook SQLite Database sample ([download here](https://www.sqlitetutorial.net/sqlite-sample-database/))\n",
    "\n",
    "If you haven't familiar with Flask or SQLAlchemy, I recommend you to take the quick reading on my articles for introduction to Flask and SQLAlchemy. "
   ]
  },
  {
   "cell_type": "markdown",
   "metadata": {},
   "source": [
    "Let's back to the business. We will build our app, consisting of :\n",
    "- database.py\n",
    "- models.py\n",
    "- schema.py\n",
    "- app.py\n",
    "\n",
    "The relation between those file will be described in this illustration:\n",
    "![](res/flow.png)\n",
    "\n",
    "the `database.py` will establish a connection to the database. In this case we will use `chinook.db` for the sake of easiness. The `models.py` will create an object relational model of the data using SQLAlchemy. `schema.py` will create a schema for our GraphQL API using graphene. And finally, a Flask web app of `app.py` that will wrap all of it. Let's make it one by one"
   ]
  },
  {
   "cell_type": "markdown",
   "metadata": {},
   "source": [
    "## Database"
   ]
  },
  {
   "cell_type": "code",
   "execution_count": null,
   "metadata": {},
   "outputs": [],
   "source": [
    "from sqlalchemy import create_engine\n",
    "from sqlalchemy.ext.declarative import declarative_base\n",
    "from sqlalchemy.orm import scoped_session, sessionmaker\n",
    "\n",
    "engine = create_engine('sqlite:///chinook.db', convert_unicode=True)\n",
    "db_session = scoped_session(sessionmaker(autocommit=False,\n",
    "                                         autoflush=False,\n",
    "                                         bind=engine))\n",
    "Base = declarative_base()\n",
    "Base.query = db_session.query_property()"
   ]
  },
  {
   "cell_type": "markdown",
   "metadata": {},
   "source": [
    "If you're confused of how it works, let me explain line by lines. \n",
    "\n",
    "In line #1-3, we imported the library we will use. Mostly are SQLAlchemy.  \\\n",
    "In line #5, we created a connection using SQLAlchemy engine. You can see thorough explanation on it's [documentatin page](https://docs.sqlalchemy.org/en/13/core/engines.html#custom-dbapi-connect-arguments). \n",
    "\n",
    "![](res/sqla_engine.png)\n",
    "\n",
    "In line #6, we created a session, that holds all of our conversation with the databse.  \n",
    "\n",
    "In line #9, we created a declarative base class of SQLAlchemy. SQLAlchemy object-relational configuration involves the combination of Table, mapper(), and class objects to define a mapped class. Declarative allows all three to be expressed at once within the class declaration. \n",
    "\n",
    "In line #10, we set our ORM base class query with the session ones."
   ]
  },
  {
   "cell_type": "markdown",
   "metadata": {},
   "source": [
    "## Models"
   ]
  },
  {
   "cell_type": "markdown",
   "metadata": {},
   "source": [
    "This process is basically modelling our database in pythonic way. In order to model the database, we need to know the **database structure** first. Since we are using `chinook.db` from sqlite database sample, it comes with clear diagram structure as you can see below:\n",
    "![](res/sqlite-sample-database-color.jpg)"
   ]
  },
  {
   "cell_type": "code",
   "execution_count": null,
   "metadata": {},
   "outputs": [],
   "source": []
  },
  {
   "cell_type": "markdown",
   "metadata": {},
   "source": [
    "I know, it's a bunch of tables. Let's try with one, the simple one, `artists` and `albums`. Let's create a Class of both of them, including their attributes. "
   ]
  },
  {
   "cell_type": "markdown",
   "metadata": {
    "ExecuteTime": {
     "end_time": "2020-01-08T13:31:29.926276Z",
     "start_time": "2020-01-08T13:31:27.999813Z"
    }
   },
   "source": [
    "```python\n",
    "from database import Base\n",
    "from sqlalchemy import Column, DateTime, ForeignKey, Integer, String, func\n",
    "from sqlalchemy.orm import backref, relationship\n",
    "\n",
    "class Artist(Base):\n",
    "    __tablename__ = 'artists'\n",
    "    ArtistId = Column(Integer, primary_key=True)\n",
    "    Name = Column(String)\n",
    "\n",
    "class Album(Base):\n",
    "    __tablename__ = 'albums'\n",
    "    AlbumId = Column(Integer, primary_key=True)\n",
    "    Title = Column(String)\n",
    "    ArtistId = Column(Integer, ForeignKey('artists.ArtistId'))\n",
    "```"
   ]
  },
  {
   "cell_type": "markdown",
   "metadata": {},
   "source": [
    "Since the two tables are related, we need to create a relationship between the two. Take a look at the snippet"
   ]
  },
  {
   "cell_type": "markdown",
   "metadata": {},
   "source": [
    "```python\n",
    "class Artist(Base):\n",
    "    __tablename__ = 'artists'\n",
    "    ArtistId = Column(Integer, primary_key=True)\n",
    "    Name = Column(String)\n",
    "    Album = relationship(\"Album\") # Relation to Album \n",
    "\n",
    "class Album(Base):\n",
    "    __tablename__ = 'albums'\n",
    "    AlbumId = Column(Integer, primary_key=True)\n",
    "    Title = Column(String)\n",
    "    ArtistId = Column(Integer, ForeignKey('artists.ArtistId'))\n",
    "    Artist = relationship(\"Artist\") # Relation to Artist\n",
    "```    "
   ]
  },
  {
   "cell_type": "markdown",
   "metadata": {},
   "source": [
    "## Schema"
   ]
  },
  {
   "cell_type": "markdown",
   "metadata": {},
   "source": [
    "Now, once we already create a model of our tables `artists` anda `albums`, we need to create a schema. We will need our models first, so let's import `Artist` and `Album` class we've created in `models.py`. Let's start by create `schema.py` and import the dependencies.\n",
    "\n",
    "**Note: Most of our job in GraphQL is defining the schema. So we will try to re-iterate this step later. For now, Let's just focus on building from the simple one**"
   ]
  },
  {
   "cell_type": "markdown",
   "metadata": {},
   "source": [
    "```python \n",
    "from models import Artist as ArtistModel\n",
    "from models import Album as AlbumModel\n",
    "```"
   ]
  },
  {
   "cell_type": "markdown",
   "metadata": {},
   "source": [
    "Next, we will need graphene and its sqlalchemy module to help us create a schema. So, let import the libraries\n",
    "```python\n",
    "import graphene\n",
    "from graphene import relay\n",
    "from graphene_sqlalchemy import SQLAlchemyConnectionField, SQLAlchemyObjectType\n",
    "```"
   ]
  },
  {
   "cell_type": "markdown",
   "metadata": {},
   "source": [
    "Now we're ready to build a schema. First, let's create an interface for our models so that they can match the 'graph' structure by wrap them into an object and set the interface into **GraphQL Node** . Add these classes into `schema.py`"
   ]
  },
  {
   "cell_type": "markdown",
   "metadata": {},
   "source": [
    "```python \n",
    "class Artist(SQLAlchemyObjectType):\n",
    "    class Meta:\n",
    "        model = ArtistModel\n",
    "        interfaces = (relay.Node, )\n",
    "\n",
    "class Album(SQLAlchemyObjectType):\n",
    "    class Meta:\n",
    "        model = AlbumModel\n",
    "        interfaces = (relay.Node, )\n",
    "```"
   ]
  },
  {
   "cell_type": "markdown",
   "metadata": {},
   "source": [
    "Now, you can say, that every instance of Artist and Albums as a Node (yes, just like a node in graph). And they are connected. Now let's define the query of what object the client can access"
   ]
  },
  {
   "cell_type": "markdown",
   "metadata": {},
   "source": [
    "```python        \n",
    "class Query(graphene.ObjectType):\n",
    "    node = relay.Node.Field()\n",
    "    \n",
    "    allArtist = SQLAlchemyConnectionField(Artist, sort=Artist.sort_argument())\n",
    "    allAlbum = SQLAlchemyConnectionField(Album, sort=None)\n",
    "```"
   ]
  },
  {
   "cell_type": "markdown",
   "metadata": {},
   "source": [
    "On the query above, we let the users to make use of `allArtist` and `allAlbum` queries. The sort arguments on `allArtist` meaning you can sort the result using Artist's attributes. We will try this later. The latest step is to wrap them all into a schema object :"
   ]
  },
  {
   "cell_type": "markdown",
   "metadata": {},
   "source": [
    "```python\n",
    "schema = graphene.Schema(query=Query, types=[Department, Employee, Role])\n",
    "```"
   ]
  },
  {
   "cell_type": "markdown",
   "metadata": {},
   "source": [
    "Here's the full code of `schema.py` right now"
   ]
  },
  {
   "cell_type": "markdown",
   "metadata": {},
   "source": [
    "```python\n",
    "from models import Artist as ArtistModel\n",
    "from models import Album as AlbumModel\n",
    "\n",
    "import graphene\n",
    "from graphene import relay\n",
    "from graphene_sqlalchemy import SQLAlchemyConnectionField, SQLAlchemyObjectType\n",
    "\n",
    "class Artist(SQLAlchemyObjectType):\n",
    "    class Meta:\n",
    "        model = ArtistModel\n",
    "        interfaces = (relay.Node, )\n",
    "\n",
    "class Album(SQLAlchemyObjectType):\n",
    "    class Meta:\n",
    "        model = AlbumModel\n",
    "        interfaces = (relay.Node, )\n",
    "\n",
    "class Query(graphene.ObjectType):\n",
    "    node = relay.Node.Field()\n",
    "    allArtist = SQLAlchemyConnectionField(Artist, sort=Artist.sort_argument())\n",
    "    allAlbum = SQLAlchemyConnectionField(Album, sort=None)\n",
    "\n",
    "schema = graphene.Schema(query=Query, types=[Artist, Album])\n",
    "```"
   ]
  },
  {
   "cell_type": "markdown",
   "metadata": {},
   "source": [
    "## App"
   ]
  },
  {
   "cell_type": "markdown",
   "metadata": {},
   "source": [
    "We already have what we need to create the API. Now, let's wrap them into one app using Flask. Create `app.py` and copy the following codes. "
   ]
  },
  {
   "cell_type": "markdown",
   "metadata": {
    "ExecuteTime": {
     "end_time": "2020-01-09T02:40:49.473160Z",
     "start_time": "2020-01-09T02:40:49.462156Z"
    }
   },
   "source": [
    "```python \n",
    "from database import db_session, init_db\n",
    "from flask import Flask\n",
    "from schema import schema\n",
    "from flask_graphql import GraphQLView\n",
    "\n",
    "app = Flask(__name__)\n",
    "app.debug = True\n",
    "\n",
    "app.add_url_rule(\"/graphql\", view_func=GraphQLView.as_view(\"graphql\", schema=schema, graphiql=True))\n",
    "\n",
    "@app.teardown_appcontext\n",
    "def shutdown_session(exception=None):\n",
    "    db_session.remove()\n",
    "\n",
    "if __name__ == \"__main__\":\n",
    "    app.run()\n",
    "```"
   ]
  },
  {
   "cell_type": "markdown",
   "metadata": {},
   "source": [
    "On the app above, set our graphql path on \"/graphql\". You can change this to whatever you want. We also imported `GraphQLView`to activate **graphiQL** to help us try the queries within the app. You can define where will the app hosted inside `app.run()`. By default, it will hosted in `localhost` with port `5000`"
   ]
  },
  {
   "cell_type": "markdown",
   "metadata": {},
   "source": [
    "# Try the Queries"
   ]
  },
  {
   "cell_type": "markdown",
   "metadata": {},
   "source": [
    "Open terminal, go to the directory and run `python app.py`. It will show where the app hosted and what port it used. Now go to your browser and hit `localhost:5000/graphql` and you should see an interface like this \n",
    "![](res/graphiql.png)"
   ]
  },
  {
   "cell_type": "markdown",
   "metadata": {},
   "source": [
    "We previously define an allAlbum and allArtist query. Let's ther all Album first. \n",
    "type \n",
    "```JSON\n",
    "{\n",
    "    allAlbum\n",
    "}```\n",
    "\n",
    "on the graphql, hit `ctrl+enter` and it will automatically correct it for you from this one:\n",
    "![](res/query1.png)\n",
    "\n",
    "into this one:\n",
    "![](res/query1result.png)"
   ]
  },
  {
   "cell_type": "markdown",
   "metadata": {},
   "source": [
    "You might questing at first, what is edges and nodes. Here's how it works. We call the `allAlbum` query. All the results is stored as a graph-like object, connected each other onto one root node trough edge. If you want to access the value, you have to go trough edges and nodes. Here's the illustration.\n",
    "\n",
    "![](res/graph_result.png)\n",
    "\n",
    "Now let's try to take all albums with its artist\n",
    "\n",
    "![](res/query2.png)"
   ]
  },
  {
   "cell_type": "markdown",
   "metadata": {},
   "source": [
    "## Query Type\n",
    "If you want, you can explicitly define your query types whether it's a `query` or `mutation`.\n",
    "![](res/query2_type.png)"
   ]
  },
  {
   "cell_type": "markdown",
   "metadata": {},
   "source": [
    "## Query Name"
   ]
  },
  {
   "cell_type": "markdown",
   "metadata": {},
   "source": [
    "You can also specify a name for your query. This will help other person to understand, especially if you're working on team\n",
    "![](res/query2_name.png)"
   ]
  },
  {
   "cell_type": "markdown",
   "metadata": {},
   "source": [
    "## Sort the Query"
   ]
  },
  {
   "cell_type": "markdown",
   "metadata": {},
   "source": [
    "Previosly we set the allArtist query to be sortable using `Artist.sort_arguments()`. Now let's try to get all artists  with their album names sorted by artist's name. You can use arguments `sort: ['attribute1_ASC', 'attribute2_DESC']`. You may add as many attributes as you want. the `ASC` and `DESC` just mean ascending or descending order. The graphiQL actually comes with code hints, mean while you're typing the query, you might get some hint like this, and it help! a lot ! especially if you're not familiar enough with the queries. This is an example of how it gives hints of what value you could add into the sort arguments.\n",
    "![](res/query3_hint.png)"
   ]
  },
  {
   "cell_type": "markdown",
   "metadata": {},
   "source": [
    "Let's get back to the business, here's how it result when we get all artist name and their album names sorte by artist name\n",
    "\n",
    "![](res/query3.png)"
   ]
  },
  {
   "cell_type": "markdown",
   "metadata": {},
   "source": [
    "If you're not using the graphiql UI and using Postman or curl, you can still see the sort arguments by checking the Model.sort_arguments()"
   ]
  },
  {
   "cell_type": "markdown",
   "metadata": {},
   "source": [
    "## Query Filtering"
   ]
  },
  {
   "cell_type": "markdown",
   "metadata": {},
   "source": [
    "Let's say we wanted only a specific artist. We can set a filter, let's say, using artistid.\n",
    "\n",
    "Let's get back to the schema, and add an input of Artist Class\n",
    "\n",
    "```python\n",
    "from models import Artist as ArtistModel\n",
    "from models import Album as AlbumModel\n",
    "\n",
    "import graphene\n",
    "from graphene import relay\n",
    "from graphene_sqlalchemy import SQLAlchemyConnectionField, SQLAlchemyObjectType\n",
    "\n",
    "class Artist(SQLAlchemyObjectType):\n",
    "    class Meta:\n",
    "        model = ArtistModel\n",
    "        interfaces = (relay.Node, )\n",
    "\n",
    "class Album(SQLAlchemyObjectType):\n",
    "    class Meta:\n",
    "        model = AlbumModel\n",
    "        interfaces = (relay.Node, )\n",
    "\n",
    "class Query(graphene.ObjectType):\n",
    "    node = relay.Node.Field()\n",
    "    allArtist = SQLAlchemyConnectionField(Artist, sort=Artist.sort_argument())\n",
    "    allAlbum = SQLAlchemyConnectionField(Album, sort=None)\n",
    "    \n",
    "    # added this\n",
    "    find_artist = graphene.Field(lambda: Artist, id=graphene.Int())\n",
    "    def resolve_find_artist(self, info, **kwargs):\n",
    "        query = Artist.get_query(info)\n",
    "        id = kwargs.get(\"id\")\n",
    "        return query.filter(ArtistModel.ArtistId == id).first()\n",
    "\n",
    "schema = graphene.Schema(query=Query, types=[Department, Employee, Role])\n",
    "```"
   ]
  },
  {
   "cell_type": "markdown",
   "metadata": {},
   "source": [
    "![](res/query4.png)"
   ]
  },
  {
   "cell_type": "markdown",
   "metadata": {},
   "source": [
    "That's the basic of querying. What you need the rest is to :\n",
    "- Model the whole database tables\n",
    "- Add the recent model schemas\n",
    "\n",
    "I have attached a sourcode that complete the whole tables (minus invoice))"
   ]
  },
  {
   "cell_type": "markdown",
   "metadata": {},
   "source": [
    "# Send Query using Python"
   ]
  },
  {
   "cell_type": "markdown",
   "metadata": {},
   "source": [
    "If you somehow create an application that make use of the API, here's an example of how to call it using python. First, we define the query"
   ]
  },
  {
   "cell_type": "code",
   "execution_count": 1,
   "metadata": {
    "ExecuteTime": {
     "end_time": "2020-01-10T03:05:46.909226Z",
     "start_time": "2020-01-10T03:05:46.905235Z"
    }
   },
   "outputs": [],
   "source": [
    "query = \"\"\"\n",
    "{\n",
    "  allArtist{\n",
    "    edges{\n",
    "      node{\n",
    "        Name\n",
    "      }\n",
    "    }\n",
    "  }\n",
    "}\n",
    "\"\"\""
   ]
  },
  {
   "cell_type": "markdown",
   "metadata": {
    "ExecuteTime": {
     "end_time": "2020-01-10T03:06:17.791734Z",
     "start_time": "2020-01-10T03:06:17.785750Z"
    }
   },
   "source": [
    "Then using builtin packages `requests`, we will try to send the query trough our API endpoint"
   ]
  },
  {
   "cell_type": "code",
   "execution_count": 4,
   "metadata": {
    "ExecuteTime": {
     "end_time": "2020-01-10T03:07:19.546782Z",
     "start_time": "2020-01-10T03:07:14.403219Z"
    },
    "scrolled": true
   },
   "outputs": [
    {
     "name": "stdout",
     "output_type": "stream",
     "text": [
      "200\n",
      "{'data': {'allArtist': {'edges': [{'node': {'Name': 'AC/DC'}}, {'node': {'Name': 'Accept'}}, {'node': {'Name': 'Aerosmith'}}, {'node': {'Name': 'Alanis Morissette'}}, {'node': {'Name': 'Alice In Chains'}}, {'node': {'Name': 'Antônio Carlos Jobim'}}, {'node': {'Name': 'Apocalyptica'}}, {'node': {'Name': 'Audioslave'}}, {'node': {'Name': 'BackBeat'}}, {'node': {'Name': 'Billy Cobham'}}, {'node': {'Name': 'Black Label Society'}}, {'node': {'Name': 'Black Sabbath'}}, {'node': {'Name': 'Body Count'}}, {'node': {'Name': 'Bruce Dickinson'}}, {'node': {'Name': 'Buddy Guy'}}, {'node': {'Name': 'Caetano Veloso'}}, {'node': {'Name': 'Chico Buarque'}}, {'node': {'Name': 'Chico Science & Nação Zumbi'}}, {'node': {'Name': 'Cidade Negra'}}, {'node': {'Name': 'Cláudio Zoli'}}, {'node': {'Name': 'Various Artists'}}, {'node': {'Name': 'Led Zeppelin'}}, {'node': {'Name': 'Frank Zappa & Captain Beefheart'}}, {'node': {'Name': 'Marcos Valle'}}, {'node': {'Name': 'Milton Nascimento & Bebeto'}}, {'node': {'Name': 'Azymuth'}}, {'node': {'Name': 'Gilberto Gil'}}, {'node': {'Name': 'João Gilberto'}}, {'node': {'Name': 'Bebel Gilberto'}}, {'node': {'Name': 'Jorge Vercilo'}}, {'node': {'Name': 'Baby Consuelo'}}, {'node': {'Name': 'Ney Matogrosso'}}, {'node': {'Name': 'Luiz Melodia'}}, {'node': {'Name': 'Nando Reis'}}, {'node': {'Name': 'Pedro Luís & A Parede'}}, {'node': {'Name': 'O Rappa'}}, {'node': {'Name': 'Ed Motta'}}, {'node': {'Name': 'Banda Black Rio'}}, {'node': {'Name': 'Fernanda Porto'}}, {'node': {'Name': 'Os Cariocas'}}, {'node': {'Name': 'Elis Regina'}}, {'node': {'Name': 'Milton Nascimento'}}, {'node': {'Name': 'A Cor Do Som'}}, {'node': {'Name': 'Kid Abelha'}}, {'node': {'Name': 'Sandra De Sá'}}, {'node': {'Name': 'Jorge Ben'}}, {'node': {'Name': 'Hermeto Pascoal'}}, {'node': {'Name': 'Barão Vermelho'}}, {'node': {'Name': 'Edson, DJ Marky & DJ Patife Featuring Fernanda Porto'}}, {'node': {'Name': 'Metallica'}}, {'node': {'Name': 'Queen'}}, {'node': {'Name': 'Kiss'}}, {'node': {'Name': 'Spyro Gyra'}}, {'node': {'Name': 'Green Day'}}, {'node': {'Name': 'David Coverdale'}}, {'node': {'Name': 'Gonzaguinha'}}, {'node': {'Name': 'Os Mutantes'}}, {'node': {'Name': 'Deep Purple'}}, {'node': {'Name': 'Santana'}}, {'node': {'Name': 'Santana Feat. Dave Matthews'}}, {'node': {'Name': 'Santana Feat. Everlast'}}, {'node': {'Name': 'Santana Feat. Rob Thomas'}}, {'node': {'Name': 'Santana Feat. Lauryn Hill & Cee-Lo'}}, {'node': {'Name': 'Santana Feat. The Project G&B'}}, {'node': {'Name': 'Santana Feat. Maná'}}, {'node': {'Name': 'Santana Feat. Eagle-Eye Cherry'}}, {'node': {'Name': 'Santana Feat. Eric Clapton'}}, {'node': {'Name': 'Miles Davis'}}, {'node': {'Name': 'Gene Krupa'}}, {'node': {'Name': 'Toquinho & Vinícius'}}, {'node': {'Name': 'Vinícius De Moraes & Baden Powell'}}, {'node': {'Name': 'Vinícius De Moraes'}}, {'node': {'Name': 'Vinícius E Qurteto Em Cy'}}, {'node': {'Name': 'Vinícius E Odette Lara'}}, {'node': {'Name': 'Vinicius, Toquinho & Quarteto Em Cy'}}, {'node': {'Name': 'Creedence Clearwater Revival'}}, {'node': {'Name': 'Cássia Eller'}}, {'node': {'Name': 'Def Leppard'}}, {'node': {'Name': 'Dennis Chambers'}}, {'node': {'Name': 'Djavan'}}, {'node': {'Name': 'Eric Clapton'}}, {'node': {'Name': 'Faith No More'}}, {'node': {'Name': 'Falamansa'}}, {'node': {'Name': 'Foo Fighters'}}, {'node': {'Name': 'Frank Sinatra'}}, {'node': {'Name': 'Funk Como Le Gusta'}}, {'node': {'Name': 'Godsmack'}}, {'node': {'Name': \"Guns N' Roses\"}}, {'node': {'Name': 'Incognito'}}, {'node': {'Name': 'Iron Maiden'}}, {'node': {'Name': 'James Brown'}}, {'node': {'Name': 'Jamiroquai'}}, {'node': {'Name': 'JET'}}, {'node': {'Name': 'Jimi Hendrix'}}, {'node': {'Name': 'Joe Satriani'}}, {'node': {'Name': 'Jota Quest'}}, {'node': {'Name': 'João Suplicy'}}, {'node': {'Name': 'Judas Priest'}}, {'node': {'Name': 'Legião Urbana'}}, {'node': {'Name': 'Lenny Kravitz'}}, {'node': {'Name': 'Lulu Santos'}}, {'node': {'Name': 'Marillion'}}, {'node': {'Name': 'Marisa Monte'}}, {'node': {'Name': 'Marvin Gaye'}}, {'node': {'Name': 'Men At Work'}}, {'node': {'Name': 'Motörhead'}}, {'node': {'Name': 'Motörhead & Girlschool'}}, {'node': {'Name': 'Mônica Marianno'}}, {'node': {'Name': 'Mötley Crüe'}}, {'node': {'Name': 'Nirvana'}}, {'node': {'Name': 'O Terço'}}, {'node': {'Name': 'Olodum'}}, {'node': {'Name': 'Os Paralamas Do Sucesso'}}, {'node': {'Name': 'Ozzy Osbourne'}}, {'node': {'Name': 'Page & Plant'}}, {'node': {'Name': 'Passengers'}}, {'node': {'Name': \"Paul D'Ianno\"}}, {'node': {'Name': 'Pearl Jam'}}, {'node': {'Name': 'Peter Tosh'}}, {'node': {'Name': 'Pink Floyd'}}, {'node': {'Name': 'Planet Hemp'}}, {'node': {'Name': 'R.E.M. Feat. Kate Pearson'}}, {'node': {'Name': 'R.E.M. Feat. KRS-One'}}, {'node': {'Name': 'R.E.M.'}}, {'node': {'Name': 'Raimundos'}}, {'node': {'Name': 'Raul Seixas'}}, {'node': {'Name': 'Red Hot Chili Peppers'}}, {'node': {'Name': 'Rush'}}, {'node': {'Name': 'Simply Red'}}, {'node': {'Name': 'Skank'}}, {'node': {'Name': 'Smashing Pumpkins'}}, {'node': {'Name': 'Soundgarden'}}, {'node': {'Name': 'Stevie Ray Vaughan & Double Trouble'}}, {'node': {'Name': 'Stone Temple Pilots'}}, {'node': {'Name': 'System Of A Down'}}, {'node': {'Name': 'Terry Bozzio, Tony Levin & Steve Stevens'}}, {'node': {'Name': 'The Black Crowes'}}, {'node': {'Name': 'The Clash'}}, {'node': {'Name': 'The Cult'}}, {'node': {'Name': 'The Doors'}}, {'node': {'Name': 'The Police'}}, {'node': {'Name': 'The Rolling Stones'}}, {'node': {'Name': 'The Tea Party'}}, {'node': {'Name': 'The Who'}}, {'node': {'Name': 'Tim Maia'}}, {'node': {'Name': 'Titãs'}}, {'node': {'Name': 'Battlestar Galactica'}}, {'node': {'Name': 'Heroes'}}, {'node': {'Name': 'Lost'}}, {'node': {'Name': 'U2'}}, {'node': {'Name': 'UB40'}}, {'node': {'Name': 'Van Halen'}}, {'node': {'Name': 'Velvet Revolver'}}, {'node': {'Name': 'Whitesnake'}}, {'node': {'Name': 'Zeca Pagodinho'}}, {'node': {'Name': 'The Office'}}, {'node': {'Name': 'Dread Zeppelin'}}, {'node': {'Name': 'Battlestar Galactica (Classic)'}}, {'node': {'Name': 'Aquaman'}}, {'node': {'Name': 'Christina Aguilera featuring BigElf'}}, {'node': {'Name': \"Aerosmith & Sierra Leone's Refugee Allstars\"}}, {'node': {'Name': 'Los Lonely Boys'}}, {'node': {'Name': 'Corinne Bailey Rae'}}, {'node': {'Name': 'Dhani Harrison & Jakob Dylan'}}, {'node': {'Name': 'Jackson Browne'}}, {'node': {'Name': 'Avril Lavigne'}}, {'node': {'Name': 'Big & Rich'}}, {'node': {'Name': \"Youssou N'Dour\"}}, {'node': {'Name': 'Black Eyed Peas'}}, {'node': {'Name': 'Jack Johnson'}}, {'node': {'Name': 'Ben Harper'}}, {'node': {'Name': 'Snow Patrol'}}, {'node': {'Name': 'Matisyahu'}}, {'node': {'Name': 'The Postal Service'}}, {'node': {'Name': 'Jaguares'}}, {'node': {'Name': 'The Flaming Lips'}}, {'node': {'Name': \"Jack's Mannequin & Mick Fleetwood\"}}, {'node': {'Name': 'Regina Spektor'}}, {'node': {'Name': 'Scorpions'}}, {'node': {'Name': 'House Of Pain'}}, {'node': {'Name': 'Xis'}}, {'node': {'Name': 'Nega Gizza'}}, {'node': {'Name': 'Gustavo & Andres Veiga & Salazar'}}, {'node': {'Name': 'Rodox'}}, {'node': {'Name': 'Charlie Brown Jr.'}}, {'node': {'Name': 'Pedro Luís E A Parede'}}, {'node': {'Name': 'Los Hermanos'}}, {'node': {'Name': 'Mundo Livre S/A'}}, {'node': {'Name': 'Otto'}}, {'node': {'Name': 'Instituto'}}, {'node': {'Name': 'Nação Zumbi'}}, {'node': {'Name': 'DJ Dolores & Orchestra Santa Massa'}}, {'node': {'Name': 'Seu Jorge'}}, {'node': {'Name': 'Sabotage E Instituto'}}, {'node': {'Name': 'Stereo Maracana'}}, {'node': {'Name': 'Cake'}}, {'node': {'Name': 'Aisha Duo'}}, {'node': {'Name': 'Habib Koité and Bamada'}}, {'node': {'Name': 'Karsh Kale'}}, {'node': {'Name': 'The Posies'}}, {'node': {'Name': 'Luciana Souza/Romero Lubambo'}}, {'node': {'Name': 'Aaron Goldberg'}}, {'node': {'Name': 'Nicolaus Esterhazy Sinfonia'}}, {'node': {'Name': 'Temple of the Dog'}}, {'node': {'Name': 'Chris Cornell'}}, {'node': {'Name': 'Alberto Turco & Nova Schola Gregoriana'}}, {'node': {'Name': 'Richard Marlow & The Choir of Trinity College, Cambridge'}}, {'node': {'Name': 'English Concert & Trevor Pinnock'}}, {'node': {'Name': 'Anne-Sophie Mutter, Herbert Von Karajan & Wiener Philharmoniker'}}, {'node': {'Name': 'Hilary Hahn, Jeffrey Kahane, Los Angeles Chamber Orchestra & Margaret Batjer'}}, {'node': {'Name': 'Wilhelm Kempff'}}, {'node': {'Name': 'Yo-Yo Ma'}}, {'node': {'Name': 'Scholars Baroque Ensemble'}}, {'node': {'Name': 'Academy of St. Martin in the Fields & Sir Neville Marriner'}}, {'node': {'Name': 'Academy of St. Martin in the Fields Chamber Ensemble & Sir Neville Marriner'}}, {'node': {'Name': 'Berliner Philharmoniker, Claudio Abbado & Sabine Meyer'}}, {'node': {'Name': 'Royal Philharmonic Orchestra & Sir Thomas Beecham'}}, {'node': {'Name': 'Orchestre Révolutionnaire et Romantique & John Eliot Gardiner'}}, {'node': {'Name': 'Britten Sinfonia, Ivor Bolton & Lesley Garrett'}}, {'node': {'Name': 'Chicago Symphony Chorus, Chicago Symphony Orchestra & Sir Georg Solti'}}, {'node': {'Name': 'Sir Georg Solti & Wiener Philharmoniker'}}, {'node': {'Name': 'Academy of St. Martin in the Fields, John Birch, Sir Neville Marriner & Sylvia McNair'}}, {'node': {'Name': 'London Symphony Orchestra & Sir Charles Mackerras'}}, {'node': {'Name': 'Barry Wordsworth & BBC Concert Orchestra'}}, {'node': {'Name': 'Herbert Von Karajan, Mirella Freni & Wiener Philharmoniker'}}, {'node': {'Name': 'Eugene Ormandy'}}, {'node': {'Name': 'Luciano Pavarotti'}}, {'node': {'Name': 'Leonard Bernstein & New York Philharmonic'}}, {'node': {'Name': 'Boston Symphony Orchestra & Seiji Ozawa'}}, {'node': {'Name': 'Aaron Copland & London Symphony Orchestra'}}, {'node': {'Name': 'Ton Koopman'}}, {'node': {'Name': 'Sergei Prokofiev & Yuri Temirkanov'}}, {'node': {'Name': 'Chicago Symphony Orchestra & Fritz Reiner'}}, {'node': {'Name': 'Orchestra of The Age of Enlightenment'}}, {'node': {'Name': 'Emanuel Ax, Eugene Ormandy & Philadelphia Orchestra'}}, {'node': {'Name': 'James Levine'}}, {'node': {'Name': 'Berliner Philharmoniker & Hans Rosbaud'}}, {'node': {'Name': 'Maurizio Pollini'}}, {'node': {'Name': 'Academy of St. Martin in the Fields, Sir Neville Marriner & William Bennett'}}, {'node': {'Name': 'Gustav Mahler'}}, {'node': {'Name': 'Felix Schmidt, London Symphony Orchestra & Rafael Frühbeck de Burgos'}}, {'node': {'Name': 'Edo de Waart & San Francisco Symphony'}}, {'node': {'Name': 'Antal Doráti & London Symphony Orchestra'}}, {'node': {'Name': 'Choir Of Westminster Abbey & Simon Preston'}}, {'node': {'Name': 'Michael Tilson Thomas & San Francisco Symphony'}}, {'node': {'Name': 'Chor der Wiener Staatsoper, Herbert Von Karajan & Wiener Philharmoniker'}}, {'node': {'Name': \"The King's Singers\"}}, {'node': {'Name': 'Berliner Philharmoniker & Herbert Von Karajan'}}, {'node': {'Name': 'Sir Georg Solti, Sumi Jo & Wiener Philharmoniker'}}, {'node': {'Name': \"Christopher O'Riley\"}}, {'node': {'Name': 'Fretwork'}}, {'node': {'Name': 'Amy Winehouse'}}, {'node': {'Name': 'Calexico'}}, {'node': {'Name': 'Otto Klemperer & Philharmonia Orchestra'}}, {'node': {'Name': 'Yehudi Menuhin'}}, {'node': {'Name': 'Philharmonia Orchestra & Sir Neville Marriner'}}, {'node': {'Name': 'Academy of St. Martin in the Fields, Sir Neville Marriner & Thurston Dart'}}, {'node': {'Name': 'Les Arts Florissants & William Christie'}}, {'node': {'Name': 'The 12 Cellists of The Berlin Philharmonic'}}, {'node': {'Name': 'Adrian Leaper & Doreen de Feis'}}, {'node': {'Name': 'Roger Norrington, London Classical Players'}}, {'node': {'Name': \"Charles Dutoit & L'Orchestre Symphonique de Montréal\"}}, {'node': {'Name': 'Equale Brass Ensemble, John Eliot Gardiner & Munich Monteverdi Orchestra and Choir'}}, {'node': {'Name': \"Kent Nagano and Orchestre de l'Opéra de Lyon\"}}, {'node': {'Name': 'Julian Bream'}}, {'node': {'Name': 'Martin Roscoe'}}, {'node': {'Name': 'Göteborgs Symfoniker & Neeme Järvi'}}, {'node': {'Name': 'Itzhak Perlman'}}, {'node': {'Name': 'Michele Campanella'}}, {'node': {'Name': 'Gerald Moore'}}, {'node': {'Name': 'Mela Tenenbaum, Pro Musica Prague & Richard Kapp'}}, {'node': {'Name': 'Emerson String Quartet'}}, {'node': {'Name': 'C. Monteverdi, Nigel Rogers - Chiaroscuro; London Baroque; London Cornett & Sackbu'}}, {'node': {'Name': 'Nash Ensemble'}}, {'node': {'Name': 'Philip Glass Ensemble'}}]}}}\n"
     ]
    }
   ],
   "source": [
    "import requests\n",
    "import json \n",
    "\n",
    "url = 'http://localhost:5000/graphql'\n",
    "r = requests.post(url, json={'query': query})\n",
    "print(r.status_code)\n",
    "print(r.json())"
   ]
  },
  {
   "cell_type": "markdown",
   "metadata": {},
   "source": [
    "Then, using `Pandas`, we can normalize the result and store is as `DataFrame` data type. "
   ]
  },
  {
   "cell_type": "code",
   "execution_count": 5,
   "metadata": {
    "ExecuteTime": {
     "end_time": "2020-01-10T03:08:20.967865Z",
     "start_time": "2020-01-10T03:08:00.863319Z"
    },
    "scrolled": true
   },
   "outputs": [
    {
     "data": {
      "text/html": [
       "<div>\n",
       "<style scoped>\n",
       "    .dataframe tbody tr th:only-of-type {\n",
       "        vertical-align: middle;\n",
       "    }\n",
       "\n",
       "    .dataframe tbody tr th {\n",
       "        vertical-align: top;\n",
       "    }\n",
       "\n",
       "    .dataframe thead th {\n",
       "        text-align: right;\n",
       "    }\n",
       "</style>\n",
       "<table border=\"1\" class=\"dataframe\">\n",
       "  <thead>\n",
       "    <tr style=\"text-align: right;\">\n",
       "      <th></th>\n",
       "      <th>node.Name</th>\n",
       "    </tr>\n",
       "  </thead>\n",
       "  <tbody>\n",
       "    <tr>\n",
       "      <th>0</th>\n",
       "      <td>AC/DC</td>\n",
       "    </tr>\n",
       "    <tr>\n",
       "      <th>1</th>\n",
       "      <td>Accept</td>\n",
       "    </tr>\n",
       "    <tr>\n",
       "      <th>2</th>\n",
       "      <td>Aerosmith</td>\n",
       "    </tr>\n",
       "    <tr>\n",
       "      <th>3</th>\n",
       "      <td>Alanis Morissette</td>\n",
       "    </tr>\n",
       "    <tr>\n",
       "      <th>4</th>\n",
       "      <td>Alice In Chains</td>\n",
       "    </tr>\n",
       "    <tr>\n",
       "      <th>5</th>\n",
       "      <td>Antônio Carlos Jobim</td>\n",
       "    </tr>\n",
       "    <tr>\n",
       "      <th>6</th>\n",
       "      <td>Apocalyptica</td>\n",
       "    </tr>\n",
       "    <tr>\n",
       "      <th>7</th>\n",
       "      <td>Audioslave</td>\n",
       "    </tr>\n",
       "    <tr>\n",
       "      <th>8</th>\n",
       "      <td>BackBeat</td>\n",
       "    </tr>\n",
       "    <tr>\n",
       "      <th>9</th>\n",
       "      <td>Billy Cobham</td>\n",
       "    </tr>\n",
       "    <tr>\n",
       "      <th>10</th>\n",
       "      <td>Black Label Society</td>\n",
       "    </tr>\n",
       "    <tr>\n",
       "      <th>11</th>\n",
       "      <td>Black Sabbath</td>\n",
       "    </tr>\n",
       "    <tr>\n",
       "      <th>12</th>\n",
       "      <td>Body Count</td>\n",
       "    </tr>\n",
       "    <tr>\n",
       "      <th>13</th>\n",
       "      <td>Bruce Dickinson</td>\n",
       "    </tr>\n",
       "    <tr>\n",
       "      <th>14</th>\n",
       "      <td>Buddy Guy</td>\n",
       "    </tr>\n",
       "    <tr>\n",
       "      <th>15</th>\n",
       "      <td>Caetano Veloso</td>\n",
       "    </tr>\n",
       "    <tr>\n",
       "      <th>16</th>\n",
       "      <td>Chico Buarque</td>\n",
       "    </tr>\n",
       "    <tr>\n",
       "      <th>17</th>\n",
       "      <td>Chico Science &amp; Nação Zumbi</td>\n",
       "    </tr>\n",
       "    <tr>\n",
       "      <th>18</th>\n",
       "      <td>Cidade Negra</td>\n",
       "    </tr>\n",
       "    <tr>\n",
       "      <th>19</th>\n",
       "      <td>Cláudio Zoli</td>\n",
       "    </tr>\n",
       "    <tr>\n",
       "      <th>20</th>\n",
       "      <td>Various Artists</td>\n",
       "    </tr>\n",
       "    <tr>\n",
       "      <th>21</th>\n",
       "      <td>Led Zeppelin</td>\n",
       "    </tr>\n",
       "    <tr>\n",
       "      <th>22</th>\n",
       "      <td>Frank Zappa &amp; Captain Beefheart</td>\n",
       "    </tr>\n",
       "    <tr>\n",
       "      <th>23</th>\n",
       "      <td>Marcos Valle</td>\n",
       "    </tr>\n",
       "    <tr>\n",
       "      <th>24</th>\n",
       "      <td>Milton Nascimento &amp; Bebeto</td>\n",
       "    </tr>\n",
       "    <tr>\n",
       "      <th>25</th>\n",
       "      <td>Azymuth</td>\n",
       "    </tr>\n",
       "    <tr>\n",
       "      <th>26</th>\n",
       "      <td>Gilberto Gil</td>\n",
       "    </tr>\n",
       "    <tr>\n",
       "      <th>27</th>\n",
       "      <td>João Gilberto</td>\n",
       "    </tr>\n",
       "    <tr>\n",
       "      <th>28</th>\n",
       "      <td>Bebel Gilberto</td>\n",
       "    </tr>\n",
       "    <tr>\n",
       "      <th>29</th>\n",
       "      <td>Jorge Vercilo</td>\n",
       "    </tr>\n",
       "    <tr>\n",
       "      <th>...</th>\n",
       "      <td>...</td>\n",
       "    </tr>\n",
       "    <tr>\n",
       "      <th>245</th>\n",
       "      <td>Chor der Wiener Staatsoper, Herbert Von Karaja...</td>\n",
       "    </tr>\n",
       "    <tr>\n",
       "      <th>246</th>\n",
       "      <td>The King's Singers</td>\n",
       "    </tr>\n",
       "    <tr>\n",
       "      <th>247</th>\n",
       "      <td>Berliner Philharmoniker &amp; Herbert Von Karajan</td>\n",
       "    </tr>\n",
       "    <tr>\n",
       "      <th>248</th>\n",
       "      <td>Sir Georg Solti, Sumi Jo &amp; Wiener Philharmoniker</td>\n",
       "    </tr>\n",
       "    <tr>\n",
       "      <th>249</th>\n",
       "      <td>Christopher O'Riley</td>\n",
       "    </tr>\n",
       "    <tr>\n",
       "      <th>250</th>\n",
       "      <td>Fretwork</td>\n",
       "    </tr>\n",
       "    <tr>\n",
       "      <th>251</th>\n",
       "      <td>Amy Winehouse</td>\n",
       "    </tr>\n",
       "    <tr>\n",
       "      <th>252</th>\n",
       "      <td>Calexico</td>\n",
       "    </tr>\n",
       "    <tr>\n",
       "      <th>253</th>\n",
       "      <td>Otto Klemperer &amp; Philharmonia Orchestra</td>\n",
       "    </tr>\n",
       "    <tr>\n",
       "      <th>254</th>\n",
       "      <td>Yehudi Menuhin</td>\n",
       "    </tr>\n",
       "    <tr>\n",
       "      <th>255</th>\n",
       "      <td>Philharmonia Orchestra &amp; Sir Neville Marriner</td>\n",
       "    </tr>\n",
       "    <tr>\n",
       "      <th>256</th>\n",
       "      <td>Academy of St. Martin in the Fields, Sir Nevil...</td>\n",
       "    </tr>\n",
       "    <tr>\n",
       "      <th>257</th>\n",
       "      <td>Les Arts Florissants &amp; William Christie</td>\n",
       "    </tr>\n",
       "    <tr>\n",
       "      <th>258</th>\n",
       "      <td>The 12 Cellists of The Berlin Philharmonic</td>\n",
       "    </tr>\n",
       "    <tr>\n",
       "      <th>259</th>\n",
       "      <td>Adrian Leaper &amp; Doreen de Feis</td>\n",
       "    </tr>\n",
       "    <tr>\n",
       "      <th>260</th>\n",
       "      <td>Roger Norrington, London Classical Players</td>\n",
       "    </tr>\n",
       "    <tr>\n",
       "      <th>261</th>\n",
       "      <td>Charles Dutoit &amp; L'Orchestre Symphonique de Mo...</td>\n",
       "    </tr>\n",
       "    <tr>\n",
       "      <th>262</th>\n",
       "      <td>Equale Brass Ensemble, John Eliot Gardiner &amp; M...</td>\n",
       "    </tr>\n",
       "    <tr>\n",
       "      <th>263</th>\n",
       "      <td>Kent Nagano and Orchestre de l'Opéra de Lyon</td>\n",
       "    </tr>\n",
       "    <tr>\n",
       "      <th>264</th>\n",
       "      <td>Julian Bream</td>\n",
       "    </tr>\n",
       "    <tr>\n",
       "      <th>265</th>\n",
       "      <td>Martin Roscoe</td>\n",
       "    </tr>\n",
       "    <tr>\n",
       "      <th>266</th>\n",
       "      <td>Göteborgs Symfoniker &amp; Neeme Järvi</td>\n",
       "    </tr>\n",
       "    <tr>\n",
       "      <th>267</th>\n",
       "      <td>Itzhak Perlman</td>\n",
       "    </tr>\n",
       "    <tr>\n",
       "      <th>268</th>\n",
       "      <td>Michele Campanella</td>\n",
       "    </tr>\n",
       "    <tr>\n",
       "      <th>269</th>\n",
       "      <td>Gerald Moore</td>\n",
       "    </tr>\n",
       "    <tr>\n",
       "      <th>270</th>\n",
       "      <td>Mela Tenenbaum, Pro Musica Prague &amp; Richard Kapp</td>\n",
       "    </tr>\n",
       "    <tr>\n",
       "      <th>271</th>\n",
       "      <td>Emerson String Quartet</td>\n",
       "    </tr>\n",
       "    <tr>\n",
       "      <th>272</th>\n",
       "      <td>C. Monteverdi, Nigel Rogers - Chiaroscuro; Lon...</td>\n",
       "    </tr>\n",
       "    <tr>\n",
       "      <th>273</th>\n",
       "      <td>Nash Ensemble</td>\n",
       "    </tr>\n",
       "    <tr>\n",
       "      <th>274</th>\n",
       "      <td>Philip Glass Ensemble</td>\n",
       "    </tr>\n",
       "  </tbody>\n",
       "</table>\n",
       "<p>275 rows × 1 columns</p>\n",
       "</div>"
      ],
      "text/plain": [
       "                                             node.Name\n",
       "0                                                AC/DC\n",
       "1                                               Accept\n",
       "2                                            Aerosmith\n",
       "3                                    Alanis Morissette\n",
       "4                                      Alice In Chains\n",
       "5                                 Antônio Carlos Jobim\n",
       "6                                         Apocalyptica\n",
       "7                                           Audioslave\n",
       "8                                             BackBeat\n",
       "9                                         Billy Cobham\n",
       "10                                 Black Label Society\n",
       "11                                       Black Sabbath\n",
       "12                                          Body Count\n",
       "13                                     Bruce Dickinson\n",
       "14                                           Buddy Guy\n",
       "15                                      Caetano Veloso\n",
       "16                                       Chico Buarque\n",
       "17                         Chico Science & Nação Zumbi\n",
       "18                                        Cidade Negra\n",
       "19                                        Cláudio Zoli\n",
       "20                                     Various Artists\n",
       "21                                        Led Zeppelin\n",
       "22                     Frank Zappa & Captain Beefheart\n",
       "23                                        Marcos Valle\n",
       "24                          Milton Nascimento & Bebeto\n",
       "25                                             Azymuth\n",
       "26                                        Gilberto Gil\n",
       "27                                       João Gilberto\n",
       "28                                      Bebel Gilberto\n",
       "29                                       Jorge Vercilo\n",
       "..                                                 ...\n",
       "245  Chor der Wiener Staatsoper, Herbert Von Karaja...\n",
       "246                                 The King's Singers\n",
       "247      Berliner Philharmoniker & Herbert Von Karajan\n",
       "248   Sir Georg Solti, Sumi Jo & Wiener Philharmoniker\n",
       "249                                Christopher O'Riley\n",
       "250                                           Fretwork\n",
       "251                                      Amy Winehouse\n",
       "252                                           Calexico\n",
       "253            Otto Klemperer & Philharmonia Orchestra\n",
       "254                                     Yehudi Menuhin\n",
       "255      Philharmonia Orchestra & Sir Neville Marriner\n",
       "256  Academy of St. Martin in the Fields, Sir Nevil...\n",
       "257            Les Arts Florissants & William Christie\n",
       "258         The 12 Cellists of The Berlin Philharmonic\n",
       "259                     Adrian Leaper & Doreen de Feis\n",
       "260         Roger Norrington, London Classical Players\n",
       "261  Charles Dutoit & L'Orchestre Symphonique de Mo...\n",
       "262  Equale Brass Ensemble, John Eliot Gardiner & M...\n",
       "263       Kent Nagano and Orchestre de l'Opéra de Lyon\n",
       "264                                       Julian Bream\n",
       "265                                      Martin Roscoe\n",
       "266                 Göteborgs Symfoniker & Neeme Järvi\n",
       "267                                     Itzhak Perlman\n",
       "268                                 Michele Campanella\n",
       "269                                       Gerald Moore\n",
       "270   Mela Tenenbaum, Pro Musica Prague & Richard Kapp\n",
       "271                             Emerson String Quartet\n",
       "272  C. Monteverdi, Nigel Rogers - Chiaroscuro; Lon...\n",
       "273                                      Nash Ensemble\n",
       "274                              Philip Glass Ensemble\n",
       "\n",
       "[275 rows x 1 columns]"
      ]
     },
     "execution_count": 5,
     "metadata": {},
     "output_type": "execute_result"
    }
   ],
   "source": [
    "import pandas as pd\n",
    "pd.io.json.json_normalize(r.json()['data']['allArtist']['edges'])"
   ]
  },
  {
   "cell_type": "markdown",
   "metadata": {},
   "source": [
    "# What's Next"
   ]
  },
  {
   "cell_type": "markdown",
   "metadata": {},
   "source": [
    "We have created an API for user to query the data. Next we will make an API for user to Mutate the data in our database. \n",
    "\n",
    "    github: @iqbalbasyar \n",
    "    linkedin: iqbal basyar "
   ]
  },
  {
   "cell_type": "code",
   "execution_count": null,
   "metadata": {},
   "outputs": [],
   "source": []
  }
 ],
 "metadata": {
  "gist": {
   "data": {
    "description": "Documents/Work/algoritma/AGP/Python-backend/Graphql.ipynb",
    "public": false
   },
   "id": ""
  },
  "hide_input": false,
  "kernelspec": {
   "display_name": "Python 3",
   "language": "python",
   "name": "python3"
  },
  "language_info": {
   "codemirror_mode": {
    "name": "ipython",
    "version": 3
   },
   "file_extension": ".py",
   "mimetype": "text/x-python",
   "name": "python",
   "nbconvert_exporter": "python",
   "pygments_lexer": "ipython3",
   "version": "3.7.4"
  },
  "latex_envs": {
   "LaTeX_envs_menu_present": true,
   "autoclose": true,
   "autocomplete": true,
   "bibliofile": "biblio.bib",
   "cite_by": "apalike",
   "current_citInitial": 1,
   "eqLabelWithNumbers": true,
   "eqNumInitial": 1,
   "hotkeys": {
    "equation": "Ctrl-E",
    "itemize": "Ctrl-I"
   },
   "labels_anchors": false,
   "latex_user_defs": false,
   "report_style_numbering": false,
   "user_envs_cfg": false
  },
  "toc": {
   "base_numbering": 1,
   "nav_menu": {},
   "number_sections": true,
   "sideBar": true,
   "skip_h1_title": false,
   "title_cell": "Table of Contents",
   "title_sidebar": "Contents",
   "toc_cell": false,
   "toc_position": {},
   "toc_section_display": true,
   "toc_window_display": false
  },
  "varInspector": {
   "cols": {
    "lenName": 16,
    "lenType": 16,
    "lenVar": 40
   },
   "kernels_config": {
    "python": {
     "delete_cmd_postfix": "",
     "delete_cmd_prefix": "del ",
     "library": "var_list.py",
     "varRefreshCmd": "print(var_dic_list())"
    },
    "r": {
     "delete_cmd_postfix": ") ",
     "delete_cmd_prefix": "rm(",
     "library": "var_list.r",
     "varRefreshCmd": "cat(var_dic_list()) "
    }
   },
   "types_to_exclude": [
    "module",
    "function",
    "builtin_function_or_method",
    "instance",
    "_Feature"
   ],
   "window_display": false
  }
 },
 "nbformat": 4,
 "nbformat_minor": 2
}
